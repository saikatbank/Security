{
 "cells": [
  {
   "cell_type": "markdown",
   "metadata": {},
   "source": [
    "# Digital Certificate"
   ]
  },
  {
   "cell_type": "markdown",
   "metadata": {},
   "source": [
    "## Generate your own key pair <br>\n",
    "\n",
    "- OpenSSL is a widely used open source tool to generate a private and corresponding public key pair."
   ]
  },
  {
   "cell_type": "markdown",
   "metadata": {},
   "source": [
    "Generating a private key\n",
    "```bash\n",
    "openssl genpkey -algorithm RSA -out private.key -pkeyopt rsa_keygen_bits:2048"
   ]
  },
  {
   "cell_type": "markdown",
   "metadata": {},
   "source": [
    "Create a public key for the above private key\n",
    "```bash\n",
    "openssl rsa -pubout -in private.key -out public.key"
   ]
  },
  {
   "cell_type": "markdown",
   "metadata": {},
   "source": [
    "## Create a Certificate Singing Request (CSR)\n",
    "\n",
    "- A CSR is a certificate signing request, which is sent to a Certificate Authority (CA) to request a digital certificate."
   ]
  },
  {
   "cell_type": "markdown",
   "metadata": {},
   "source": [
    "```bash\n",
    "openssl req -new -key private.key -out certificate.csr\n",
    "```\n",
    "- After this step provide details like:\n",
    "  - Country Name\n",
    "  - State or Province Name\n",
    "  - Locality Name\n",
    "  - Organization Name\n",
    "  - Organizational Unit Name\n",
    "  - Common Name\n",
    "  - Email Address\n",
    "- These informations will appear in the certificate"
   ]
  },
  {
   "cell_type": "markdown",
   "metadata": {},
   "source": [
    "## Generate a Self-Signed Certificate"
   ]
  },
  {
   "cell_type": "markdown",
   "metadata": {},
   "source": [
    "```bash\n",
    "openssl x509 -req -days 3 -in certificate.csr -signkey private.key -out certificate.crt\n",
    "```"
   ]
  },
  {
   "cell_type": "markdown",
   "metadata": {},
   "source": [
    "#### View the Contents of Your Certificate\n",
    "\n",
    "- inspect your certificate to undarstand the contents"
   ]
  },
  {
   "cell_type": "markdown",
   "metadata": {},
   "source": [
    "```bash\n",
    "openssl x509 -in certificate.crt -text -noout\n",
    "```"
   ]
  },
  {
   "cell_type": "markdown",
   "metadata": {},
   "source": [
    "#### In the content look for\n",
    "- Subject: Informations from the CSR\n",
    "- Issuer: The CA that issued the certificate, for self-signed certificates, it is the same as the subject\n",
    "- Validity: The start and expiration date of the certificate\n",
    "- Public Key: The public key of the certificate\n"
   ]
  },
  {
   "cell_type": "markdown",
   "metadata": {},
   "source": [
    "## Use Your Certificate in Practice\n",
    "\n",
    "- Create a simple HTTPS server\n",
    "- Use certificate.crt and private.key"
   ]
  },
  {
   "cell_type": "code",
   "execution_count": null,
   "metadata": {},
   "outputs": [],
   "source": [
    "import http.server\n",
    "import ssl\n",
    "\n",
    "server_address = ('localhost', 4443)\n",
    "httpd = http.server.HTTPServer(server_address, http.server.SimpleHTTPRequestHandler)\n",
    "\n",
    "httpd.socket = ssl.wrap_socket(httpd.socket, \n",
    "                               keyfile=\"private.key\", \n",
    "                               certfile=\"certificate.crt\", \n",
    "                               server_side=True)\n",
    "\n",
    "print(\"Serving on https://localhost:4443\")\n",
    "httpd.serve_forever()\n"
   ]
  },
  {
   "cell_type": "code",
   "execution_count": null,
   "metadata": {},
   "outputs": [],
   "source": []
  }
 ],
 "metadata": {
  "kernelspec": {
   "display_name": "Python 3",
   "language": "python",
   "name": "python3"
  },
  "language_info": {
   "codemirror_mode": {
    "name": "ipython",
    "version": 3
   },
   "file_extension": ".py",
   "mimetype": "text/x-python",
   "name": "python",
   "nbconvert_exporter": "python",
   "pygments_lexer": "ipython3",
   "version": "3.10.12"
  }
 },
 "nbformat": 4,
 "nbformat_minor": 2
}
