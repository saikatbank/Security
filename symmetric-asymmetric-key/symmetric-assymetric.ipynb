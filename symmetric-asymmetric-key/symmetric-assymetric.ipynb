{
 "cells": [
  {
   "cell_type": "markdown",
   "metadata": {},
   "source": [
    "# Cryptography"
   ]
  },
  {
   "cell_type": "markdown",
   "metadata": {},
   "source": [
    "- Cryptography is used to transfer information in a secure way from one party to another.\n",
    "\n",
    "- Cryptography is a branch of mathematics that deals with the study of algorithms and protocols for secure communication.\n",
    "\n",
    "- Using cryptography, information can be encrypted and decrypted to ensure its confidentiality and integrity."
   ]
  },
  {
   "cell_type": "markdown",
   "metadata": {},
   "source": [
    "# Symmetric Key"
   ]
  },
  {
   "cell_type": "markdown",
   "metadata": {},
   "source": [
    "- Symmetric key cryptography is a type of cryptography in which the same key is used for both encryption and decryption of the data. \n",
    "- The key is kept secret and shared between the sender and the receiver. \n",
    "- Symmetric key cryptography is fast and efficient, but it requires a secure method of key exchange.\n",
    "\n",
    "- In python cryptography library, symmetric key cryptography is implemented using the Fernet class. The Fernet class is used to encrypt and decrypt data using a symmetric key."
   ]
  },
  {
   "cell_type": "markdown",
   "metadata": {},
   "source": [
    "- In the below example, we used only one key to create a Fernet object.\n",
    "\n",
    "- The Fernet object can be used to encrypt and decrypt data, which implies that the same key is used for both operations."
   ]
  },
  {
   "cell_type": "code",
   "execution_count": 1,
   "metadata": {},
   "outputs": [
    {
     "name": "stdout",
     "output_type": "stream",
     "text": [
      "original message: b'Hello, this is symmetric key encryption!'\n",
      "encrypted message: b'gAAAAABnVz3umdbFr0w-tSozuPLUKzABmg8NPC4Sox1wvH2kyWOTSGNKX8OeK18qODElUIVoeepf8Y9m6BjoP4VDJTFlC8AZp1mNVcbAAm8YzOUvEAQaujicaaJ8_vhzPXA3b1k4sjqm'\n",
      "decrypted message: b'Hello, this is symmetric key encryption!'\n"
     ]
    }
   ],
   "source": [
    "from cryptography.fernet import Fernet\n",
    "\n",
    "# generate a symmetric key\n",
    "key = Fernet.generate_key()\n",
    "\n",
    "# create a Fernet object with the key\n",
    "cipher = Fernet(key)\n",
    "\n",
    "# the original message\n",
    "message = b\"Hello, this is symmetric key encryption!\"\n",
    "print(f\"original message: {message}\")\n",
    "\n",
    "# encrypt a message\n",
    "encrypted_message = cipher.encrypt(message)\n",
    "print(f\"encrypted message: {encrypted_message}\")\n",
    "\n",
    "# decrypt the message\n",
    "decrypted_message = cipher.decrypt(encrypted_message)\n",
    "print(f\"decrypted message: {decrypted_message}\")\n"
   ]
  },
  {
   "cell_type": "markdown",
   "metadata": {},
   "source": [
    "# Asymmetric Key"
   ]
  },
  {
   "cell_type": "markdown",
   "metadata": {},
   "source": [
    "- Assymetric key cryptography is used to encrypt data using a public key and decrypt data using a private key.\n",
    "\n",
    "- The public key is shared with others, while the private key is kept secret.\n",
    "\n",
    "- Slower but eliminates the need for key sharing.\n",
    "\n",
    "- In python cryptography library, assymetric key cryptography can be implemented using hazmat module."
   ]
  },
  {
   "cell_type": "markdown",
   "metadata": {},
   "source": [
    "- In the below example, we will be create a public and private key pair using the RSA algorithm.\n",
    "\n",
    "- Using the public key, we will encrypt a message and then using the private key, we will decrypt the message."
   ]
  },
  {
   "cell_type": "code",
   "execution_count": 2,
   "metadata": {},
   "outputs": [
    {
     "name": "stdout",
     "output_type": "stream",
     "text": [
      "original message: b'Hello, this is assymetric key encryption!'\n",
      "encrypted message: b\"\\x9a\\x18?\\x1fx<_\\xf4&z%\\xab\\x84/\\xcb\\xc5^_\\x03s\\xa9\\xfe\\xe8\\xca]\\x16\\xa0\\xf7{\\xfd\\xb0\\x199\\x0b\\xd6\\xfft\\xe95`I\\xd3)\\xe6t\\xe7\\x14\\x17]F\\x1e\\xe7\\xf5\\x85W/\\x92C\\x83\\xc6\\xf5B\\xc4\\xdf\\xc4\\x8d\\x84\\x9f^.\\x18\\xe3\\x16\\xfc\\xb7M.\\xcbs\\x87\\x04\\x8cZ\\xfa\\x14,j'\\xaa\\xee\\x14l\\xc5\\x81\\x16\\x81\\x82\\xe7A&\\xa5j\\xc2\\x9f\\xdf\\xb0\\xf1\\x8b\\xbe]n\\x08\\xe0\\xd9\\xe7\\x94G{U\\xd1\\xd0-\\x0b\\xa5\\xdb\\x03\\xe5G\\xbd\\xc2e\\x0bR4\\xa35\\x95\\xab^\\x17\\x92\\xca\\xda\\x96ov\\x0f\\xa3\\x8e\\xf0\\xd7\\xf3\\x9d\\x87\\xa93\\x9b\\xe2\\xc9\\xba\\x88\\xbdg\\xc4\\x1cN\\xc6\\xc5\\xbb\\xe7hY\\xbd\\x83\\xca\\x93\\xb6_;)\\xa4a^\\xce\\xf33\\n\\xac9B\\x85\\x02A)5\\x98/<\\x1c/\\x13\\xc0L\\xfbP\\xd4z\\x9a\\xa4I$Gi\\xe3\\x087\\xeb\\xcf\\xaa\\x8f;\\xfa\\xaf=\\xac[\\x0cZ/hs?2\\x1ew\\xf5i\\xd0\\xd8\\xba\\x06\\xf1EH#B\\xbe\\x1e\\x08\\xf5w\\x07\\xa3\\x19\\xb1.\"\n",
      "decrypted_message: b'Hello, this is assymetric key encryption!'\n"
     ]
    }
   ],
   "source": [
    "from cryptography.hazmat.primitives.asymmetric import rsa\n",
    "from cryptography.hazmat.primitives.asymmetric.padding import MGF1, OAEP\n",
    "from cryptography.hazmat.primitives.hashes import SHA256\n",
    "\n",
    "# generate a key pair\n",
    "private_key = rsa.generate_private_key(public_exponent=65537, key_size=2048)\n",
    "public_key = private_key.public_key()\n",
    "\n",
    "# the original message\n",
    "message = b\"Hello, this is assymetric key encryption!\"\n",
    "print(f\"original message: {message}\")\n",
    "\n",
    "# let's encrypt the message with the public key\n",
    "encrypted_message = public_key.encrypt(\n",
    "    message,\n",
    "    OAEP(mgf=MGF1(algorithm=SHA256()), algorithm=SHA256(), label=None)\n",
    ")\n",
    "print(f\"encrypted message: {encrypted_message}\")\n",
    "\n",
    "# decrypt the file using the private key\n",
    "decrypted_message = private_key.decrypt(encrypted_message, OAEP(mgf=MGF1(algorithm=SHA256()), algorithm=SHA256(), label=None))\n",
    "print(f\"decrypted_message: {decrypted_message}\")"
   ]
  }
 ],
 "metadata": {
  "kernelspec": {
   "display_name": "Python 3",
   "language": "python",
   "name": "python3"
  },
  "language_info": {
   "codemirror_mode": {
    "name": "ipython",
    "version": 3
   },
   "file_extension": ".py",
   "mimetype": "text/x-python",
   "name": "python",
   "nbconvert_exporter": "python",
   "pygments_lexer": "ipython3",
   "version": "3.10.12"
  }
 },
 "nbformat": 4,
 "nbformat_minor": 2
}
